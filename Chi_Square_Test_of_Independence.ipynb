{
  "cells": [
    {
      "cell_type": "markdown",
      "metadata": {
        "id": "view-in-github",
        "colab_type": "text"
      },
      "source": [
        "<a href=\"https://colab.research.google.com/github/Ashishteja227/Datascience_assignments/blob/main/Chi_Square_Test_of_Independence.ipynb\" target=\"_parent\"><img src=\"https://colab.research.google.com/assets/colab-badge.svg\" alt=\"Open In Colab\"/></a>"
      ]
    },
    {
      "cell_type": "code",
      "execution_count": null,
      "id": "151d4e5a",
      "metadata": {
        "id": "151d4e5a"
      },
      "outputs": [],
      "source": [
        "import numpy as np\n",
        "from scipy.stats import chi2_contingency"
      ]
    },
    {
      "cell_type": "code",
      "execution_count": null,
      "id": "a5409fdb",
      "metadata": {
        "id": "a5409fdb"
      },
      "outputs": [],
      "source": [
        "df= np.array([[50, 70],\n",
        "                     [80, 100],\n",
        "                     [60, 90],\n",
        "                     [30, 50],\n",
        "                     [20, 50]])"
      ]
    },
    {
      "cell_type": "code",
      "execution_count": null,
      "id": "7aa4ed66",
      "metadata": {
        "id": "7aa4ed66"
      },
      "outputs": [],
      "source": [
        "#1\n",
        "# Ho : There is no significant association between the type of device and customer satisfaction.\n",
        "# H1 : There is a significant association between the type of device and customer satisfaction."
      ]
    },
    {
      "cell_type": "code",
      "execution_count": null,
      "id": "c19207e8",
      "metadata": {
        "id": "c19207e8",
        "outputId": "4b9b01a0-d207-4495-8d3e-5599d57a0e96"
      },
      "outputs": [
        {
          "name": "stdout",
          "output_type": "stream",
          "text": [
            "Chi-Square Statistic: 5.638227513227513\n"
          ]
        }
      ],
      "source": [
        "#2\n",
        "chi2_stat, p_val, dof, expected = chi2_contingency(df)\n",
        "print(\"Chi-Square Statistic:\", chi2_stat)"
      ]
    },
    {
      "cell_type": "code",
      "execution_count": null,
      "id": "1d7619cc",
      "metadata": {
        "id": "1d7619cc",
        "outputId": "910f4f5d-7515-439b-eb80-48245cd58f7d"
      },
      "outputs": [
        {
          "name": "stdout",
          "output_type": "stream",
          "text": [
            "Critical Value: 0.22784371130697179\n"
          ]
        }
      ],
      "source": [
        "#3\n",
        "alpha = 0.05\n",
        "critical_value = chi2_contingency(df)[1]\n",
        "print(\"Critical Value:\", critical_value)"
      ]
    },
    {
      "cell_type": "code",
      "execution_count": null,
      "id": "d76bd7af",
      "metadata": {
        "id": "d76bd7af",
        "outputId": "6cb0991b-dc7d-4e25-b7ac-8852705c2aa7"
      },
      "outputs": [
        {
          "name": "stdout",
          "output_type": "stream",
          "text": [
            "Decision: Reject the null hypothesis\n"
          ]
        }
      ],
      "source": [
        "#4\n",
        "if chi2_stat > critical_value:\n",
        "    decision = \"Reject the null hypothesis\"\n",
        "else:\n",
        "    decision = \"Fail to reject the null hypothesis\"\n",
        "\n",
        "print(\"Decision:\", decision)"
      ]
    },
    {
      "cell_type": "code",
      "execution_count": null,
      "id": "dff04e01",
      "metadata": {
        "id": "dff04e01"
      },
      "outputs": [],
      "source": [
        "# So, there is a significant association between the type of device and customer satisfaction."
      ]
    },
    {
      "cell_type": "code",
      "execution_count": null,
      "id": "ff827103",
      "metadata": {
        "id": "ff827103"
      },
      "outputs": [],
      "source": []
    }
  ],
  "metadata": {
    "kernelspec": {
      "display_name": "Python 3 (ipykernel)",
      "language": "python",
      "name": "python3"
    },
    "language_info": {
      "codemirror_mode": {
        "name": "ipython",
        "version": 3
      },
      "file_extension": ".py",
      "mimetype": "text/x-python",
      "name": "python",
      "nbconvert_exporter": "python",
      "pygments_lexer": "ipython3",
      "version": "3.11.5"
    },
    "colab": {
      "provenance": [],
      "include_colab_link": true
    }
  },
  "nbformat": 4,
  "nbformat_minor": 5
}